{
 "cells": [
  {
   "cell_type": "code",
   "execution_count": 4,
   "id": "ed4debd0",
   "metadata": {},
   "outputs": [
    {
     "data": {
      "text/plain": [
       "'C:\\\\Users\\\\ahmed'"
      ]
     },
     "execution_count": 4,
     "metadata": {},
     "output_type": "execute_result"
    }
   ],
   "source": [
    "pwd"
   ]
  },
  {
   "cell_type": "code",
   "execution_count": 9,
   "id": "0a614d3b",
   "metadata": {},
   "outputs": [],
   "source": [
    "import pandas as pd"
   ]
  },
  {
   "cell_type": "code",
   "execution_count": 10,
   "id": "54f326a5",
   "metadata": {},
   "outputs": [],
   "source": [
    "df = pd.read_csv(r\"C:\\Users\\ahmed\\data1.csv\")"
   ]
  },
  {
   "cell_type": "code",
   "execution_count": 11,
   "id": "c04839ee",
   "metadata": {},
   "outputs": [
    {
     "data": {
      "text/html": [
       "<div>\n",
       "<style scoped>\n",
       "    .dataframe tbody tr th:only-of-type {\n",
       "        vertical-align: middle;\n",
       "    }\n",
       "\n",
       "    .dataframe tbody tr th {\n",
       "        vertical-align: top;\n",
       "    }\n",
       "\n",
       "    .dataframe thead th {\n",
       "        text-align: right;\n",
       "    }\n",
       "</style>\n",
       "<table border=\"1\" class=\"dataframe\">\n",
       "  <thead>\n",
       "    <tr style=\"text-align: right;\">\n",
       "      <th></th>\n",
       "      <th>X1</th>\n",
       "      <th>X2</th>\n",
       "      <th>Y</th>\n",
       "    </tr>\n",
       "  </thead>\n",
       "  <tbody>\n",
       "    <tr>\n",
       "      <th>0</th>\n",
       "      <td>83</td>\n",
       "      <td>58</td>\n",
       "      <td>0</td>\n",
       "    </tr>\n",
       "    <tr>\n",
       "      <th>1</th>\n",
       "      <td>23</td>\n",
       "      <td>30</td>\n",
       "      <td>1</td>\n",
       "    </tr>\n",
       "    <tr>\n",
       "      <th>2</th>\n",
       "      <td>48</td>\n",
       "      <td>3</td>\n",
       "      <td>1</td>\n",
       "    </tr>\n",
       "    <tr>\n",
       "      <th>3</th>\n",
       "      <td>60</td>\n",
       "      <td>31</td>\n",
       "      <td>0</td>\n",
       "    </tr>\n",
       "    <tr>\n",
       "      <th>4</th>\n",
       "      <td>39</td>\n",
       "      <td>30</td>\n",
       "      <td>1</td>\n",
       "    </tr>\n",
       "  </tbody>\n",
       "</table>\n",
       "</div>"
      ],
      "text/plain": [
       "   X1  X2  Y\n",
       "0  83  58  0\n",
       "1  23  30  1\n",
       "2  48   3  1\n",
       "3  60  31  0\n",
       "4  39  30  1"
      ]
     },
     "execution_count": 11,
     "metadata": {},
     "output_type": "execute_result"
    }
   ],
   "source": [
    "df.head()"
   ]
  },
  {
   "cell_type": "code",
   "execution_count": 12,
   "id": "c3ba13f2",
   "metadata": {},
   "outputs": [],
   "source": [
    "import matplotlib.pyplot as plt"
   ]
  },
  {
   "cell_type": "code",
   "execution_count": 13,
   "id": "45da0de5",
   "metadata": {},
   "outputs": [
    {
     "data": {
      "image/png": "[encoded data removed]",
      "text/plain": [
       "<Figure size 432x288 with 1 Axes>"
      ]
     },
     "metadata": {
      "needs_background": "light"
     },
     "output_type": "display_data"
    }
   ],
   "source": [
    "X1 = df['X1'].values.tolist()\n",
    "X2 = df['X2'].values.tolist()\n",
    "Y = df['Y'].values.tolist()\n",
    "\n",
    "for i in range(len(Y)):\n",
    "    if Y[i] == 0:\n",
    "        plt.plot(X1[i], X2[i], 'r+')\n",
    "    else:\n",
    "        plt.plot(X1[i], X2[i], 'g+')"
   ]
  },
  {
   "cell_type": "code",
   "execution_count": 14,
   "id": "7b61f3f9",
   "metadata": {},
   "outputs": [],
   "source": [
    "import random"
   ]
  },
  {
   "cell_type": "code",
   "execution_count": 15,
   "id": "05041c50",
   "metadata": {},
   "outputs": [],
   "source": [
    "import math"
   ]
  },
  {
   "cell_type": "code",
   "execution_count": 16,
   "id": "3ffd1b2c",
   "metadata": {},
   "outputs": [],
   "source": [
    "from IPython import display"
   ]
  },
  {
   "cell_type": "code",
   "execution_count": 17,
   "id": "06ad26fa",
   "metadata": {},
   "outputs": [
    {
     "data": {
      "image/png": "[encoded data removed]",
      "text/plain": [
       "<Figure size 432x288 with 1 Axes>"
      ]
     },
     "metadata": {
      "needs_background": "light"
     },
     "output_type": "display_data"
    }
   ],
   "source": [
    "import random\n",
    "W = [random.random(), random.random()]\n",
    "b = random.random()\n",
    "lr = 0.001\n",
    "theta = 0.5\n",
    "epoch = 0\n",
    "count = 0\n",
    "\n",
    "while count < len(Y):\n",
    "    total_error = 0\n",
    "    for i in range (len(Y)):\n",
    "        ws = W[0]*X1[i] + W[1]*X2[i] + b\n",
    "        pred = 0\n",
    "        if ws > theta:\n",
    "            pred = 1\n",
    "            \n",
    "        error = Y[i] - pred\n",
    "        if error != 0:\n",
    "            count=0\n",
    "            total_error += math.sqrt(error**2)\n",
    "            W[0] += error * X1[i] * lr\n",
    "            W[1] += error * X2[i] * lr\n",
    "            b += error * lr\n",
    "        else:\n",
    "            count +=1\n",
    "    \n",
    "    plt.figure()\n",
    "    display.clear_output(wait=True)\n",
    "    for i in range(len(Y)):\n",
    "        if Y[i] == 0:\n",
    "            plt.plot(X1[i], X2[i], 'r+')\n",
    "        else:\n",
    "            plt.plot(X1[i], X2[i], 'g+')\n",
    "        \n",
    "        plt.xlim([1, 100])\n",
    "        plt.ylim([1, 100])\n",
    "        \n",
    "        xint = (theta-b) / W[0]\n",
    "        yint = (theta-b) / W[1]\n",
    "        slope = -yint / xint\n",
    "        x = plt.xlim()\n",
    "        y = []\n",
    "        for i in x:\n",
    "            y.append(slope*i+ yint)\n",
    "            \n",
    "        plt.plot(x,y, 'b-')\n",
    "        \n",
    "    plt.title(f\"Epoch = {epoch} Loss = {total_error}\")\n",
    "    plt.show()\n",
    "    \n",
    "    epoch += 1"
   ]
  },
  {
   "cell_type": "code",
   "execution_count": null,
   "id": "6f2ec7fd",
   "metadata": {},
   "outputs": [],
   "source": []
  },
  {
   "cell_type": "code",
   "execution_count": null,
   "id": "f7182d90",
   "metadata": {},
   "outputs": [],
   "source": []
  }
 ],
 "metadata": {
  "kernelspec": {
   "display_name": "cvpr tf2.4 py3.8",
   "language": "python",
   "name": "cvpr"
  },
  "language_info": {
   "codemirror_mode": {
    "name": "ipython",
    "version": 3
   },
   "file_extension": ".py",
   "mimetype": "text/x-python",
   "name": "python",
   "nbconvert_exporter": "python",
   "pygments_lexer": "ipython3",
   "version": "3.8.11"
  }
 },
 "nbformat": 4,
 "nbformat_minor": 5
}
